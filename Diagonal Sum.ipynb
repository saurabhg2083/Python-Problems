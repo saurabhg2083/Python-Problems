{
 "cells": [
  {
   "cell_type": "markdown",
   "id": "776d367a",
   "metadata": {},
   "source": [
    "##### Diagonal Diffrence\n",
    "\n",
    "absolue |Sum(Right Diaogonal) - Sum(Left Diaogonal)|"
   ]
  },
  {
   "cell_type": "code",
   "execution_count": 12,
   "id": "03052b8b",
   "metadata": {},
   "outputs": [],
   "source": [
    "import math\n",
    "import os\n",
    "import random\n",
    "import re\n",
    "import sys\n",
    "import numpy as np"
   ]
  },
  {
   "cell_type": "code",
   "execution_count": 13,
   "id": "7ec20803",
   "metadata": {},
   "outputs": [],
   "source": [
    "def diagonalDifference(arr):\n",
    "    prim =0\n",
    "    sec=0\n",
    "    length = len(arr[0])\n",
    "    for count in range(length):\n",
    "        prim += arr[count][count]\n",
    "        sec += arr[count][(length-count-1)]\n",
    "    return abs(prim-sec)"
   ]
  },
  {
   "cell_type": "code",
   "execution_count": 14,
   "id": "69d2c118",
   "metadata": {},
   "outputs": [
    {
     "name": "stdout",
     "output_type": "stream",
     "text": [
      "15\n"
     ]
    }
   ],
   "source": [
    "arr = [\n",
    "[11,2,4],\n",
    "[4,5,6],\n",
    "[10,8,-12],\n",
    "]\n",
    "\n",
    "result = diagonalDifference(arr)\n",
    "print(result)"
   ]
  },
  {
   "cell_type": "code",
   "execution_count": 16,
   "id": "e57e17fc",
   "metadata": {},
   "outputs": [
    {
     "name": "stdout",
     "output_type": "stream",
     "text": [
      "[[ 3  4  5]\n",
      " [ 6  7  8]\n",
      " [ 9 10 11]]\n",
      "0\n"
     ]
    }
   ],
   "source": [
    "arr =  np.arange(3, 12).reshape(3,3)\n",
    "print(arr)\n",
    "  \n",
    "result = diagonalDifference(arr)\n",
    "print(result)"
   ]
  },
  {
   "cell_type": "code",
   "execution_count": 25,
   "id": "83346394",
   "metadata": {},
   "outputs": [
    {
     "name": "stdout",
     "output_type": "stream",
     "text": [
      "[[10  1  3]\n",
      " [ 1  7  7]\n",
      " [ 4  2  9]]\n",
      "12\n"
     ]
    }
   ],
   "source": [
    "arr = [random.randint(1, 10) for i in range(0, 9)]\n",
    "arr = np.array(arr).reshape(3,3)\n",
    "print(arr)\n",
    "result = diagonalDifference(arr)\n",
    "print(result)"
   ]
  },
  {
   "cell_type": "code",
   "execution_count": null,
   "id": "f5f0aa8c",
   "metadata": {},
   "outputs": [],
   "source": []
  }
 ],
 "metadata": {
  "kernelspec": {
   "display_name": "Python 3 (ipykernel)",
   "language": "python",
   "name": "python3"
  },
  "language_info": {
   "codemirror_mode": {
    "name": "ipython",
    "version": 3
   },
   "file_extension": ".py",
   "mimetype": "text/x-python",
   "name": "python",
   "nbconvert_exporter": "python",
   "pygments_lexer": "ipython3",
   "version": "3.9.7"
  }
 },
 "nbformat": 4,
 "nbformat_minor": 5
}
