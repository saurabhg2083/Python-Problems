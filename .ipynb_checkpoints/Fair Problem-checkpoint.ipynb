{
 "cells": [
  {
   "cell_type": "code",
   "execution_count": 6,
   "id": "461a5c02",
   "metadata": {},
   "outputs": [],
   "source": [
    "import math\n",
    "import os\n",
    "import random\n",
    "import re\n",
    "import sys"
   ]
  },
  {
   "cell_type": "code",
   "execution_count": 20,
   "id": "65a4e91d",
   "metadata": {},
   "outputs": [
    {
     "name": "stdout",
     "output_type": "stream",
     "text": [
      "[3, 5, 7, 8]\n",
      "i= 3\n",
      "suml= 3\n",
      "[3, 5, 7, 8]\n",
      "if current=3 - paired=-1 - distance=0\n",
      "\n",
      "i= 5\n",
      "suml= 8\n",
      "[3, 5, 7, 8]\n",
      "elif current=-1 - paired=5 - distance=0 - loavesNeeded=2 - total=2\n",
      "\n",
      "i= 7\n",
      "suml= 15\n",
      "[3, 5, 7, 8]\n",
      "if current=7 - paired=-1 - distance=0\n",
      "\n",
      "i= 8\n",
      "suml= 23\n",
      "[3, 5, 7, 8]\n",
      "else  distance=1 \n",
      "\n",
      "NO\n"
     ]
    }
   ],
   "source": [
    "def fairRations(B):\n",
    "    suml = 0;\n",
    "    current = -1\n",
    "    paired = -1\n",
    "    distance = 0\n",
    "    total = 0;\n",
    "\n",
    "    for i in B:\n",
    "        print(\"i=\",i)\n",
    "        suml += i\n",
    "        print(\"suml=\",suml)\n",
    "        if(i % 2 == 1 and current == -1):\n",
    "            current = i\n",
    "            paired = -1\n",
    "            distance = 0\n",
    "            print(f\"if current={current} - paired={paired} - distance={distance}\\n\")\n",
    "            \n",
    "        elif(current != -1 and i % 2 == 1):\n",
    "            paired = i\n",
    "            current = -1\n",
    "            loavesNeeded = (2 + ((distance + 1) - 1) * 2)\n",
    "            total += loavesNeeded\n",
    "            print(f\"elif current={current} - paired={paired} - distance={distance} - loavesNeeded={loavesNeeded} - total={total}\\n\")\n",
    "        else:\n",
    "            distance += 1\n",
    "            print(f\"else  distance={distance} \\n\")\n",
    "\n",
    "    if(suml % 2 == 1):\n",
    "        return \"NO\"\n",
    "    else :\n",
    "        return total\n",
    "\n",
    "\n",
    "\n",
    "B = [3, 5, 7, 8]\n",
    "print(B)\n",
    "result = fairRations(B)\n",
    "\n",
    "print(result)"
   ]
  },
  {
   "cell_type": "code",
   "execution_count": null,
   "id": "1c5cf17c",
   "metadata": {},
   "outputs": [],
   "source": []
  }
 ],
 "metadata": {
  "kernelspec": {
   "display_name": "Python 3 (ipykernel)",
   "language": "python",
   "name": "python3"
  },
  "language_info": {
   "codemirror_mode": {
    "name": "ipython",
    "version": 3
   },
   "file_extension": ".py",
   "mimetype": "text/x-python",
   "name": "python",
   "nbconvert_exporter": "python",
   "pygments_lexer": "ipython3",
   "version": "3.9.7"
  }
 },
 "nbformat": 4,
 "nbformat_minor": 5
}
