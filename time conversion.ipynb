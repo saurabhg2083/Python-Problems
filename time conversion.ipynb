{
 "cells": [
  {
   "cell_type": "code",
   "execution_count": 1,
   "id": "b196b263",
   "metadata": {},
   "outputs": [],
   "source": [
    "import os\n",
    "import sys\n",
    "\n",
    "def timeConversion(s):\n",
    "    time = s.split(\":\")\n",
    "    if s[-2:] == \"PM\":\n",
    "        if time[0] != \"12\":\n",
    "            time[0] = str(int(time[0])+12)\n",
    "    else:\n",
    "        if time[0] == \"12\":\n",
    "            time[0] = \"00\"\n",
    "    ntime = ':'.join(time)\n",
    "    return str(ntime[:-2])"
   ]
  },
  {
   "cell_type": "code",
   "execution_count": 10,
   "id": "d762dad5",
   "metadata": {},
   "outputs": [
    {
     "data": {
      "text/plain": [
       "'08:01:00'"
      ]
     },
     "execution_count": 10,
     "metadata": {},
     "output_type": "execute_result"
    }
   ],
   "source": [
    "s = '08:01:00AM'\n",
    "result = timeConversion(s)\n",
    "result"
   ]
  },
  {
   "cell_type": "code",
   "execution_count": null,
   "id": "36cb9341",
   "metadata": {},
   "outputs": [],
   "source": []
  }
 ],
 "metadata": {
  "kernelspec": {
   "display_name": "Python 3 (ipykernel)",
   "language": "python",
   "name": "python3"
  },
  "language_info": {
   "codemirror_mode": {
    "name": "ipython",
    "version": 3
   },
   "file_extension": ".py",
   "mimetype": "text/x-python",
   "name": "python",
   "nbconvert_exporter": "python",
   "pygments_lexer": "ipython3",
   "version": "3.9.7"
  }
 },
 "nbformat": 4,
 "nbformat_minor": 5
}
