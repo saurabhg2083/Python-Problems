{
 "cells": [
  {
   "cell_type": "markdown",
   "id": "3ce9162a",
   "metadata": {},
   "source": [
    "### XGBoost"
   ]
  },
  {
   "cell_type": "code",
   "execution_count": 1,
   "id": "795c6423",
   "metadata": {},
   "outputs": [],
   "source": [
    "# import necessary packages\n",
    "import pandas as pd\n",
    "import xgboost as xgb\n",
    "from sklearn.datasets import load_iris\n",
    "from sklearn.model_selection import train_test_split\n",
    "from sklearn.metrics import mean_squared_error"
   ]
  },
  {
   "cell_type": "code",
   "execution_count": 2,
   "id": "06f71843",
   "metadata": {},
   "outputs": [],
   "source": [
    "iris = load_iris()\n",
    "X = pd.DataFrame(iris.data, columns=iris.feature_names)\n",
    "y = pd.Series(iris.target)"
   ]
  },
  {
   "cell_type": "code",
   "execution_count": 5,
   "id": "c6c6a713",
   "metadata": {},
   "outputs": [],
   "source": [
    "# split the dataset \n",
    "xTrain, xTest, yTrain, yTest = train_test_split(X, y)\n",
    " \n",
    "# define the XGBoost regressor according to your specifications\n",
    "xgbModel = xgb.XGBRegressor(\n",
    "    n_estimators=100,\n",
    "    reg_lambda=1,\n",
    "    gamma=0,\n",
    "    max_depth=4\n",
    ")"
   ]
  },
  {
   "cell_type": "markdown",
   "id": "6ddf80ae",
   "metadata": {},
   "source": [
    "    n_estimators   : Number of trees\n",
    "    reg_lambda     : Lambda value for L2 regularization\n",
    "    gamma          : Minimum reduction of loss for a branch split\n",
    "    max_depth      : Max depth of a tree"
   ]
  },
  {
   "cell_type": "code",
   "execution_count": 6,
   "id": "e020af4e",
   "metadata": {},
   "outputs": [],
   "source": [
    "# fit the training data in the model\n",
    "xgbModel.fit(xTrain, yTrain)\n",
    "# Store the importance of features in a separate dataframe\n",
    "impFeat = pd.DataFrame(xgbModel.feature_importances_.reshape(1, -1), columns=iris.feature_names)"
   ]
  },
  {
   "cell_type": "code",
   "execution_count": 7,
   "id": "9465d3de",
   "metadata": {},
   "outputs": [],
   "source": [
    "# get predictions on test data\n",
    "yPred = xgbModel.predict(xTest)\n",
    " \n",
    "# store the msq error from the predictions\n",
    "msqErr = mean_squared_error(yPred, yTest)"
   ]
  },
  {
   "cell_type": "code",
   "execution_count": null,
   "id": "2c1d63a5",
   "metadata": {},
   "outputs": [],
   "source": []
  }
 ],
 "metadata": {
  "kernelspec": {
   "display_name": "Python 3 (ipykernel)",
   "language": "python",
   "name": "python3"
  },
  "language_info": {
   "codemirror_mode": {
    "name": "ipython",
    "version": 3
   },
   "file_extension": ".py",
   "mimetype": "text/x-python",
   "name": "python",
   "nbconvert_exporter": "python",
   "pygments_lexer": "ipython3",
   "version": "3.9.7"
  }
 },
 "nbformat": 4,
 "nbformat_minor": 5
}
