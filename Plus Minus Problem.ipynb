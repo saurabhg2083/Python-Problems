{
 "cells": [
  {
   "cell_type": "markdown",
   "id": "48f4a223",
   "metadata": {},
   "source": [
    "#### Plus Minus Problem\n",
    "\n",
    "Given an array of integers, calculate the ratios of its elements that are positive, negative, and zero. Print the decimal value of each fraction on a new line with  places after the decimal."
   ]
  },
  {
   "cell_type": "code",
   "execution_count": 2,
   "id": "1be899de",
   "metadata": {},
   "outputs": [],
   "source": [
    "import math\n",
    "import os\n",
    "import random\n",
    "import re\n",
    "import sys"
   ]
  },
  {
   "cell_type": "code",
   "execution_count": 15,
   "id": "d8d5933e",
   "metadata": {},
   "outputs": [],
   "source": [
    "def plusMinus(arr):\n",
    "    pos=0\n",
    "    neg=0\n",
    "    neu=0\n",
    "    for i in range(len(arr)):\n",
    "        if(arr[i]>0):\n",
    "            pos+=1\n",
    "        elif(arr[i]==0):\n",
    "            neu+=1\n",
    "        else:\n",
    "            neg+=1\n",
    "    print(\"Positive Numbers are \",pos)\n",
    "    print(\"Zeros Numbers are \",neu)\n",
    "    print(\"Negative Numbers are \",neg)\n",
    "    print(\"{:.6f}\".format(pos/len(arr)))\n",
    "    print(\"{:.6f}\".format(neu/len(arr)))\n",
    "    print(\"{:.6f}\".format(neg/len(arr)))"
   ]
  },
  {
   "cell_type": "code",
   "execution_count": 16,
   "id": "534cc952",
   "metadata": {},
   "outputs": [
    {
     "name": "stdout",
     "output_type": "stream",
     "text": [
      "Positive Numbers are  3\n",
      "Zeros Numbers are  1\n",
      "Negative Numbers are  2\n",
      "0.500000\n",
      "0.166667\n",
      "0.333333\n"
     ]
    }
   ],
   "source": [
    "arr = [-4, 3, -9, 0, 4, 1]\n",
    "plusMinus(arr)"
   ]
  },
  {
   "cell_type": "code",
   "execution_count": null,
   "id": "64024626",
   "metadata": {},
   "outputs": [],
   "source": []
  }
 ],
 "metadata": {
  "kernelspec": {
   "display_name": "Python 3 (ipykernel)",
   "language": "python",
   "name": "python3"
  },
  "language_info": {
   "codemirror_mode": {
    "name": "ipython",
    "version": 3
   },
   "file_extension": ".py",
   "mimetype": "text/x-python",
   "name": "python",
   "nbconvert_exporter": "python",
   "pygments_lexer": "ipython3",
   "version": "3.9.7"
  }
 },
 "nbformat": 4,
 "nbformat_minor": 5
}
